{
 "cells": [
  {
   "cell_type": "code",
   "execution_count": 1,
   "id": "b1d56cec-2f3b-47fa-b5b9-d4b0ac09bc15",
   "metadata": {},
   "outputs": [],
   "source": [
    "# names of hurricanes\n",
    "names = ['Cuba I', 'San Felipe II Okeechobee', 'Bahamas', 'Cuba II', 'CubaBrownsville', 'Tampico', 'Labor Day', 'New England', 'Carol', 'Janet', 'Carla', 'Hattie', 'Beulah', 'Camille', 'Edith', 'Anita', 'David', 'Allen', 'Gilbert', 'Hugo', 'Andrew', 'Mitch', 'Isabel', 'Ivan', 'Emily', 'Katrina', 'Rita', 'Wilma', 'Dean', 'Felix', 'Matthew', 'Irma', 'Maria', 'Michael']\n",
    "\n",
    "# months of hurricanes\n",
    "months = ['October', 'September', 'September', 'November', 'August', 'September', 'September', 'September', 'September', 'September', 'September', 'October', 'September', 'August', 'September', 'September', 'August', 'August', 'September', 'September', 'August', 'October', 'September', 'September', 'July', 'August', 'September', 'October', 'August', 'September', 'October', 'September', 'September', 'October']\n",
    "\n",
    "# years of hurricanes\n",
    "years = [1924, 1928, 1932, 1932, 1933, 1933, 1935, 1938, 1953, 1955, 1961, 1961, 1967, 1969, 1971, 1977, 1979, 1980, 1988, 1989, 1992, 1998, 2003, 2004, 2005, 2005, 2005, 2005, 2007, 2007, 2016, 2017, 2017, 2018]\n",
    "\n",
    "# maximum sustained winds (mph) of hurricanes\n",
    "max_sustained_winds = [165, 160, 160, 175, 160, 160, 185, 160, 160, 175, 175, 160, 160, 175, 160, 175, 175, 190, 185, 160, 175, 180, 165, 165, 160, 175, 180, 185, 175, 175, 165, 180, 175, 160]\n",
    "\n",
    "# areas affected by each hurricane\n",
    "areas_affected = [['Central America', 'Mexico', 'Cuba', 'Florida', 'The Bahamas'], ['Lesser Antilles', 'The Bahamas', 'United States East Coast', 'Atlantic Canada'], ['The Bahamas', 'Northeastern United States'], ['Lesser Antilles', 'Jamaica', 'Cayman Islands', 'Cuba', 'The Bahamas', 'Bermuda'], ['The Bahamas', 'Cuba', 'Florida', 'Texas', 'Tamaulipas'], ['Jamaica', 'Yucatn Peninsula'], ['The Bahamas', 'Florida', 'Georgia', 'The Carolinas', 'Virginia'], ['Southeastern United States', 'Northeastern United States', 'Southwestern Quebec'], ['Bermuda', 'New England', 'Atlantic Canada'], ['Lesser Antilles', 'Central America'], ['Texas', 'Louisiana', 'Midwestern United States'], ['Central America'], ['The Caribbean', 'Mexico', 'Texas'], ['Cuba', 'United States Gulf Coast'], ['The Caribbean', 'Central America', 'Mexico', 'United States Gulf Coast'], ['Mexico'], ['The Caribbean', 'United States East coast'], ['The Caribbean', 'Yucatn Peninsula', 'Mexico', 'South Texas'], ['Jamaica', 'Venezuela', 'Central America', 'Hispaniola', 'Mexico'], ['The Caribbean', 'United States East Coast'], ['The Bahamas', 'Florida', 'United States Gulf Coast'], ['Central America', 'Yucatn Peninsula', 'South Florida'], ['Greater Antilles', 'Bahamas', 'Eastern United States', 'Ontario'], ['The Caribbean', 'Venezuela', 'United States Gulf Coast'], ['Windward Islands', 'Jamaica', 'Mexico', 'Texas'], ['Bahamas', 'United States Gulf Coast'], ['Cuba', 'United States Gulf Coast'], ['Greater Antilles', 'Central America', 'Florida'], ['The Caribbean', 'Central America'], ['Nicaragua', 'Honduras'], ['Antilles', 'Venezuela', 'Colombia', 'United States East Coast', 'Atlantic Canada'], ['Cape Verde', 'The Caribbean', 'British Virgin Islands', 'U.S. Virgin Islands', 'Cuba', 'Florida'], ['Lesser Antilles', 'Virgin Islands', 'Puerto Rico', 'Dominican Republic', 'Turks and Caicos Islands'], ['Central America', 'United States Gulf Coast (especially Florida Panhandle)']]\n",
    "\n",
    "# damages (USD($)) of hurricanes\n",
    "damages = ['Damages not recorded', '100M', 'Damages not recorded', '40M', '27.9M', '5M', 'Damages not recorded', '306M', '2M', '65.8M', '326M', '60.3M', '208M', '1.42B', '25.4M', 'Damages not recorded', '1.54B', '1.24B', '7.1B', '10B', '26.5B', '6.2B', '5.37B', '23.3B', '1.01B', '125B', '12B', '29.4B', '1.76B', '720M', '15.1B', '64.8B', '91.6B', '25.1B']\n",
    "\n",
    "# deaths for each hurricane\n",
    "deaths = [90,4000,16,3103,179,184,408,682,5,1023,43,319,688,259,37,11,2068,269,318,107,65,19325,51,124,17,1836,125,87,45,133,603,138,3057,74]\n"
   ]
  },
  {
   "cell_type": "markdown",
   "id": "83e3b436-3d43-4856-bd76-83ff00982ef6",
   "metadata": {},
   "source": [
    "# "
   ]
  },
  {
   "cell_type": "code",
   "execution_count": 2,
   "id": "45c56544-21e0-4e79-b44a-e09d3ef217d0",
   "metadata": {},
   "outputs": [],
   "source": [
    "# write your update damages function here:\n",
    "#conversion = {'M': 1000000, 'B': 1000000000}\n",
    "def clean_list(input):\n",
    "    list = []\n",
    "    for i in input:\n",
    "        if i == \"Damages not recorded\":\n",
    "            list.append(i)\n",
    "        elif i.find('M',0,len(i)) != -1:\n",
    "            y = i.replace('M','')\n",
    "            y = float(y) * 1000000\n",
    "            list.append(y)\n",
    "        else: \n",
    "            y = i.replace('B','')\n",
    "            y = float(y) * 1000000000\n",
    "            list.append(y)\n",
    "    return(list)\n"
   ]
  },
  {
   "cell_type": "code",
   "execution_count": 3,
   "id": "1adaf540-d1f6-4073-bb0d-3094848277db",
   "metadata": {},
   "outputs": [],
   "source": [
    "# write your update damages function here:\n",
    "conversion = {'M': 1, 'B': 1000}\n",
    "def clean_list(input):\n",
    "    list = []\n",
    "    for i in input:\n",
    "        if i == \"Damages not recorded\":\n",
    "            list.append(i)\n",
    "        elif i.find('M',0,len(i)) != -1:\n",
    "            y = i.replace('M','')\n",
    "            y = float(y) * conversion['M']\n",
    "            list.append(y)\n",
    "        else: \n",
    "            y = i.replace('B','')\n",
    "            y = float(y) * conversion['B']\n",
    "            list.append(y)\n",
    "    return(list)\n"
   ]
  },
  {
   "cell_type": "code",
   "execution_count": 4,
   "id": "8e246b73-d218-4ffa-aa63-f74ded09c83e",
   "metadata": {},
   "outputs": [
    {
     "name": "stdout",
     "output_type": "stream",
     "text": [
      "['Damages not recorded', 100.0, 'Damages not recorded', 40.0, 27.9, 5.0, 'Damages not recorded', 306.0, 2.0, 65.8, 326.0, 60.3, 208.0, 1420.0, 25.4, 'Damages not recorded', 1540.0, 1240.0, 7100.0, 10000.0, 26500.0, 6200.0, 5370.0, 23300.0, 1010.0, 125000.0, 12000.0, 29400.0, 1760.0, 720.0, 15100.0, 64800.0, 91600.0, 25100.0]\n"
     ]
    }
   ],
   "source": [
    "updated_damages = clean_list(damages)\n",
    "print(updated_damages)"
   ]
  },
  {
   "cell_type": "code",
   "execution_count": 5,
   "id": "85badc4e-5ff0-45ee-8846-85c941bff968",
   "metadata": {},
   "outputs": [
    {
     "data": {
      "text/plain": [
       "['Lesser Antilles',\n",
       " 'The Bahamas',\n",
       " 'United States East Coast',\n",
       " 'Atlantic Canada']"
      ]
     },
     "execution_count": 5,
     "metadata": {},
     "output_type": "execute_result"
    }
   ],
   "source": [
    "areas_affected[1]"
   ]
  },
  {
   "cell_type": "markdown",
   "id": "3bc345d7-99c1-4052-9f8c-d1d027ec26da",
   "metadata": {},
   "source": [
    "# "
   ]
  },
  {
   "cell_type": "code",
   "execution_count": 97,
   "id": "4c90a885-8d8e-46f8-8881-55525ea1cf24",
   "metadata": {},
   "outputs": [],
   "source": [
    "# write your construct hurricane dictionary function here:\n",
    "def dictio(names, months, years, max_sustained_winds, areas_affected, updated_damages, deaths):\n",
    "    hurricane = {} #dict()\n",
    "    for i in range(len(names)):\n",
    "        hurricane[names[i]] = {\n",
    "         'Name': names[i],\n",
    "         'Month': months[i], \n",
    "         'Year': years[i], \n",
    "         'Max Sustained Wind': max_sustained_winds[i], \n",
    "         'Areas Affected': areas_affected[i], \n",
    "         'Damage': updated_damages[i], \n",
    "         'Deaths': deaths[i]\n",
    "        }\n",
    "    return hurricane\n",
    "\n"
   ]
  },
  {
   "cell_type": "code",
   "execution_count": 98,
   "id": "f32f7e53-e03c-4859-bcef-c2882e7e5bdc",
   "metadata": {},
   "outputs": [],
   "source": [
    "hurricanes = dictio(names, months, years, max_sustained_winds, areas_affected, updated_damages, deaths)"
   ]
  },
  {
   "cell_type": "code",
   "execution_count": 100,
   "id": "2302154e-383c-492b-8493-4343ca1a505e",
   "metadata": {},
   "outputs": [
    {
     "data": {
      "text/plain": [
       "dict_items([('Cuba I', {'Name': 'Cuba I', 'Month': 'October', 'Year': 1924, 'Max Sustained Wind': 165, 'Areas Affected': ['Central America', 'Mexico', 'Cuba', 'Florida', 'The Bahamas'], 'Damage': 'Damages not recorded', 'Deaths': 90}), ('San Felipe II Okeechobee', {'Name': 'San Felipe II Okeechobee', 'Month': 'September', 'Year': 1928, 'Max Sustained Wind': 160, 'Areas Affected': ['Lesser Antilles', 'The Bahamas', 'United States East Coast', 'Atlantic Canada'], 'Damage': 100.0, 'Deaths': 4000}), ('Bahamas', {'Name': 'Bahamas', 'Month': 'September', 'Year': 1932, 'Max Sustained Wind': 160, 'Areas Affected': ['The Bahamas', 'Northeastern United States'], 'Damage': 'Damages not recorded', 'Deaths': 16}), ('Cuba II', {'Name': 'Cuba II', 'Month': 'November', 'Year': 1932, 'Max Sustained Wind': 175, 'Areas Affected': ['Lesser Antilles', 'Jamaica', 'Cayman Islands', 'Cuba', 'The Bahamas', 'Bermuda'], 'Damage': 40.0, 'Deaths': 3103}), ('CubaBrownsville', {'Name': 'CubaBrownsville', 'Month': 'August', 'Year': 1933, 'Max Sustained Wind': 160, 'Areas Affected': ['The Bahamas', 'Cuba', 'Florida', 'Texas', 'Tamaulipas'], 'Damage': 27.9, 'Deaths': 179}), ('Tampico', {'Name': 'Tampico', 'Month': 'September', 'Year': 1933, 'Max Sustained Wind': 160, 'Areas Affected': ['Jamaica', 'Yucatn Peninsula'], 'Damage': 5.0, 'Deaths': 184}), ('Labor Day', {'Name': 'Labor Day', 'Month': 'September', 'Year': 1935, 'Max Sustained Wind': 185, 'Areas Affected': ['The Bahamas', 'Florida', 'Georgia', 'The Carolinas', 'Virginia'], 'Damage': 'Damages not recorded', 'Deaths': 408}), ('New England', {'Name': 'New England', 'Month': 'September', 'Year': 1938, 'Max Sustained Wind': 160, 'Areas Affected': ['Southeastern United States', 'Northeastern United States', 'Southwestern Quebec'], 'Damage': 306.0, 'Deaths': 682}), ('Carol', {'Name': 'Carol', 'Month': 'September', 'Year': 1953, 'Max Sustained Wind': 160, 'Areas Affected': ['Bermuda', 'New England', 'Atlantic Canada'], 'Damage': 2.0, 'Deaths': 5}), ('Janet', {'Name': 'Janet', 'Month': 'September', 'Year': 1955, 'Max Sustained Wind': 175, 'Areas Affected': ['Lesser Antilles', 'Central America'], 'Damage': 65.8, 'Deaths': 1023}), ('Carla', {'Name': 'Carla', 'Month': 'September', 'Year': 1961, 'Max Sustained Wind': 175, 'Areas Affected': ['Texas', 'Louisiana', 'Midwestern United States'], 'Damage': 326.0, 'Deaths': 43}), ('Hattie', {'Name': 'Hattie', 'Month': 'October', 'Year': 1961, 'Max Sustained Wind': 160, 'Areas Affected': ['Central America'], 'Damage': 60.3, 'Deaths': 319}), ('Beulah', {'Name': 'Beulah', 'Month': 'September', 'Year': 1967, 'Max Sustained Wind': 160, 'Areas Affected': ['The Caribbean', 'Mexico', 'Texas'], 'Damage': 208.0, 'Deaths': 688}), ('Camille', {'Name': 'Camille', 'Month': 'August', 'Year': 1969, 'Max Sustained Wind': 175, 'Areas Affected': ['Cuba', 'United States Gulf Coast'], 'Damage': 1420.0, 'Deaths': 259}), ('Edith', {'Name': 'Edith', 'Month': 'September', 'Year': 1971, 'Max Sustained Wind': 160, 'Areas Affected': ['The Caribbean', 'Central America', 'Mexico', 'United States Gulf Coast'], 'Damage': 25.4, 'Deaths': 37}), ('Anita', {'Name': 'Anita', 'Month': 'September', 'Year': 1977, 'Max Sustained Wind': 175, 'Areas Affected': ['Mexico'], 'Damage': 'Damages not recorded', 'Deaths': 11}), ('David', {'Name': 'David', 'Month': 'August', 'Year': 1979, 'Max Sustained Wind': 175, 'Areas Affected': ['The Caribbean', 'United States East coast'], 'Damage': 1540.0, 'Deaths': 2068}), ('Allen', {'Name': 'Allen', 'Month': 'August', 'Year': 1980, 'Max Sustained Wind': 190, 'Areas Affected': ['The Caribbean', 'Yucatn Peninsula', 'Mexico', 'South Texas'], 'Damage': 1240.0, 'Deaths': 269}), ('Gilbert', {'Name': 'Gilbert', 'Month': 'September', 'Year': 1988, 'Max Sustained Wind': 185, 'Areas Affected': ['Jamaica', 'Venezuela', 'Central America', 'Hispaniola', 'Mexico'], 'Damage': 7100.0, 'Deaths': 318}), ('Hugo', {'Name': 'Hugo', 'Month': 'September', 'Year': 1989, 'Max Sustained Wind': 160, 'Areas Affected': ['The Caribbean', 'United States East Coast'], 'Damage': 10000.0, 'Deaths': 107}), ('Andrew', {'Name': 'Andrew', 'Month': 'August', 'Year': 1992, 'Max Sustained Wind': 175, 'Areas Affected': ['The Bahamas', 'Florida', 'United States Gulf Coast'], 'Damage': 26500.0, 'Deaths': 65}), ('Mitch', {'Name': 'Mitch', 'Month': 'October', 'Year': 1998, 'Max Sustained Wind': 180, 'Areas Affected': ['Central America', 'Yucatn Peninsula', 'South Florida'], 'Damage': 6200.0, 'Deaths': 19325}), ('Isabel', {'Name': 'Isabel', 'Month': 'September', 'Year': 2003, 'Max Sustained Wind': 165, 'Areas Affected': ['Greater Antilles', 'Bahamas', 'Eastern United States', 'Ontario'], 'Damage': 5370.0, 'Deaths': 51}), ('Ivan', {'Name': 'Ivan', 'Month': 'September', 'Year': 2004, 'Max Sustained Wind': 165, 'Areas Affected': ['The Caribbean', 'Venezuela', 'United States Gulf Coast'], 'Damage': 23300.0, 'Deaths': 124}), ('Emily', {'Name': 'Emily', 'Month': 'July', 'Year': 2005, 'Max Sustained Wind': 160, 'Areas Affected': ['Windward Islands', 'Jamaica', 'Mexico', 'Texas'], 'Damage': 1010.0, 'Deaths': 17}), ('Katrina', {'Name': 'Katrina', 'Month': 'August', 'Year': 2005, 'Max Sustained Wind': 175, 'Areas Affected': ['Bahamas', 'United States Gulf Coast'], 'Damage': 125000.0, 'Deaths': 1836}), ('Rita', {'Name': 'Rita', 'Month': 'September', 'Year': 2005, 'Max Sustained Wind': 180, 'Areas Affected': ['Cuba', 'United States Gulf Coast'], 'Damage': 12000.0, 'Deaths': 125}), ('Wilma', {'Name': 'Wilma', 'Month': 'October', 'Year': 2005, 'Max Sustained Wind': 185, 'Areas Affected': ['Greater Antilles', 'Central America', 'Florida'], 'Damage': 29400.0, 'Deaths': 87}), ('Dean', {'Name': 'Dean', 'Month': 'August', 'Year': 2007, 'Max Sustained Wind': 175, 'Areas Affected': ['The Caribbean', 'Central America'], 'Damage': 1760.0, 'Deaths': 45}), ('Felix', {'Name': 'Felix', 'Month': 'September', 'Year': 2007, 'Max Sustained Wind': 175, 'Areas Affected': ['Nicaragua', 'Honduras'], 'Damage': 720.0, 'Deaths': 133}), ('Matthew', {'Name': 'Matthew', 'Month': 'October', 'Year': 2016, 'Max Sustained Wind': 165, 'Areas Affected': ['Antilles', 'Venezuela', 'Colombia', 'United States East Coast', 'Atlantic Canada'], 'Damage': 15100.0, 'Deaths': 603}), ('Irma', {'Name': 'Irma', 'Month': 'September', 'Year': 2017, 'Max Sustained Wind': 180, 'Areas Affected': ['Cape Verde', 'The Caribbean', 'British Virgin Islands', 'U.S. Virgin Islands', 'Cuba', 'Florida'], 'Damage': 64800.0, 'Deaths': 138}), ('Maria', {'Name': 'Maria', 'Month': 'September', 'Year': 2017, 'Max Sustained Wind': 175, 'Areas Affected': ['Lesser Antilles', 'Virgin Islands', 'Puerto Rico', 'Dominican Republic', 'Turks and Caicos Islands'], 'Damage': 91600.0, 'Deaths': 3057}), ('Michael', {'Name': 'Michael', 'Month': 'October', 'Year': 2018, 'Max Sustained Wind': 160, 'Areas Affected': ['Central America', 'United States Gulf Coast (especially Florida Panhandle)'], 'Damage': 25100.0, 'Deaths': 74})])"
      ]
     },
     "execution_count": 100,
     "metadata": {},
     "output_type": "execute_result"
    }
   ],
   "source": [
    "#hurricanes.keys() #items #values\n",
    "hurricanes.items()\n",
    "#hurricanes"
   ]
  },
  {
   "cell_type": "code",
   "execution_count": 9,
   "id": "00258038-cf33-4304-a95a-28f082981883",
   "metadata": {},
   "outputs": [
    {
     "name": "stdout",
     "output_type": "stream",
     "text": [
      "{'Cuba I': {'Name': 'Cuba I', 'Month': 'October', 'Year': 1924, 'Max Sustained Wind': 165, 'Areas Affected': ['Central America', 'Mexico', 'Cuba', 'Florida', 'The Bahamas'], 'Damage': 'Damages not recorded', 'Deaths': 90}, 'San Felipe II Okeechobee': {'Name': 'San Felipe II Okeechobee', 'Month': 'September', 'Year': 1928, 'Max Sustained Wind': 160, 'Areas Affected': ['Lesser Antilles', 'The Bahamas', 'United States East Coast', 'Atlantic Canada'], 'Damage': 100.0, 'Deaths': 4000}, 'Cuba 3': {'Name': 'Cuba I', 'Month': 'October', 'Year': 1924, 'Max Sustained Wind': 165, 'Areas Affected': ['Central America', 'Mexico', 'Cuba', 'Florida', 'The Bahamas'], 'Damage': 'Damages not recorded', 'Deaths': 90}, 'Cuba 2': {'Name': 'Cuba I', 'Month': 'October', 'Year': 1924, 'Max Sustained Wind': 165, 'Areas Affected': ['Central America', 'Mexico', 'Cuba', 'Florida', 'The Bahamas'], 'Damage': 'Damages not recorded', 'Deaths': 90}}\n"
     ]
    }
   ],
   "source": [
    "#print(hurricanes['Cuba I'])\n",
    "a = {}\n",
    "a.update({'Cuba I': hurricanes['Cuba I'], 'San Felipe II Okeechobee': hurricanes['San Felipe II Okeechobee']})\n",
    "a.update({'Cuba 3': hurricanes['Cuba I']})\n",
    "a.update({'Cuba 2': hurricanes['Cuba I']})\n",
    "print(a)"
   ]
  },
  {
   "cell_type": "code",
   "execution_count": 10,
   "id": "9eb1735e-b08b-49e4-9482-d8697ccb8dc9",
   "metadata": {},
   "outputs": [],
   "source": [
    "def canes(input):\n",
    "    current_cane = {}\n",
    "    for i in input: #hurricanes\n",
    "        current_year = hurricanes[i]['Year']\n",
    "        current_cane.update({current_year: hurricanes[i]})\n",
    "    return current_cane"
   ]
  },
  {
   "cell_type": "code",
   "execution_count": 101,
   "id": "f0b6bce9-bc2d-435e-8f98-2d4e1a7eca60",
   "metadata": {},
   "outputs": [
    {
     "data": {
      "text/plain": [
       "'San Felipe II Okeechobee'"
      ]
     },
     "execution_count": 101,
     "metadata": {},
     "output_type": "execute_result"
    }
   ],
   "source": [
    "canes_dict = canes(hurricanes)\n",
    "canes_dict[1928]['Name']"
   ]
  },
  {
   "cell_type": "code",
   "execution_count": 102,
   "id": "a5589b30-8555-4eed-b17c-5a7d7548421e",
   "metadata": {},
   "outputs": [
    {
     "data": {
      "text/plain": [
       "dict_keys([1924, 1928, 1932, 1933, 1935, 1938, 1953, 1955, 1961, 1967, 1969, 1971, 1977, 1979, 1980, 1988, 1989, 1992, 1998, 2003, 2004, 2005, 2007, 2016, 2017, 2018])"
      ]
     },
     "execution_count": 102,
     "metadata": {},
     "output_type": "execute_result"
    }
   ],
   "source": [
    "canes_dict.keys()"
   ]
  },
  {
   "cell_type": "code",
   "execution_count": 105,
   "id": "f2c2f9d4-1f50-4671-8493-5344a7f076b4",
   "metadata": {},
   "outputs": [
    {
     "data": {
      "text/plain": [
       "{1924: {'Name': 'Cuba I',\n",
       "  'Month': 'October',\n",
       "  'Year': 1924,\n",
       "  'Max Sustained Wind': 165,\n",
       "  'Areas Affected': ['Central America',\n",
       "   'Mexico',\n",
       "   'Cuba',\n",
       "   'Florida',\n",
       "   'The Bahamas'],\n",
       "  'Damage': 'Damages not recorded',\n",
       "  'Deaths': 90},\n",
       " 1928: {'Name': 'San Felipe II Okeechobee',\n",
       "  'Month': 'September',\n",
       "  'Year': 1928,\n",
       "  'Max Sustained Wind': 160,\n",
       "  'Areas Affected': ['Lesser Antilles',\n",
       "   'The Bahamas',\n",
       "   'United States East Coast',\n",
       "   'Atlantic Canada'],\n",
       "  'Damage': 100.0,\n",
       "  'Deaths': 4000},\n",
       " 1932: {'Name': 'Cuba II',\n",
       "  'Month': 'November',\n",
       "  'Year': 1932,\n",
       "  'Max Sustained Wind': 175,\n",
       "  'Areas Affected': ['Lesser Antilles',\n",
       "   'Jamaica',\n",
       "   'Cayman Islands',\n",
       "   'Cuba',\n",
       "   'The Bahamas',\n",
       "   'Bermuda'],\n",
       "  'Damage': 40.0,\n",
       "  'Deaths': 3103},\n",
       " 1933: {'Name': 'Tampico',\n",
       "  'Month': 'September',\n",
       "  'Year': 1933,\n",
       "  'Max Sustained Wind': 160,\n",
       "  'Areas Affected': ['Jamaica', 'Yucatn Peninsula'],\n",
       "  'Damage': 5.0,\n",
       "  'Deaths': 184},\n",
       " 1935: {'Name': 'Labor Day',\n",
       "  'Month': 'September',\n",
       "  'Year': 1935,\n",
       "  'Max Sustained Wind': 185,\n",
       "  'Areas Affected': ['The Bahamas',\n",
       "   'Florida',\n",
       "   'Georgia',\n",
       "   'The Carolinas',\n",
       "   'Virginia'],\n",
       "  'Damage': 'Damages not recorded',\n",
       "  'Deaths': 408},\n",
       " 1938: {'Name': 'New England',\n",
       "  'Month': 'September',\n",
       "  'Year': 1938,\n",
       "  'Max Sustained Wind': 160,\n",
       "  'Areas Affected': ['Southeastern United States',\n",
       "   'Northeastern United States',\n",
       "   'Southwestern Quebec'],\n",
       "  'Damage': 306.0,\n",
       "  'Deaths': 682},\n",
       " 1953: {'Name': 'Carol',\n",
       "  'Month': 'September',\n",
       "  'Year': 1953,\n",
       "  'Max Sustained Wind': 160,\n",
       "  'Areas Affected': ['Bermuda', 'New England', 'Atlantic Canada'],\n",
       "  'Damage': 2.0,\n",
       "  'Deaths': 5},\n",
       " 1955: {'Name': 'Janet',\n",
       "  'Month': 'September',\n",
       "  'Year': 1955,\n",
       "  'Max Sustained Wind': 175,\n",
       "  'Areas Affected': ['Lesser Antilles', 'Central America'],\n",
       "  'Damage': 65.8,\n",
       "  'Deaths': 1023},\n",
       " 1961: {'Name': 'Hattie',\n",
       "  'Month': 'October',\n",
       "  'Year': 1961,\n",
       "  'Max Sustained Wind': 160,\n",
       "  'Areas Affected': ['Central America'],\n",
       "  'Damage': 60.3,\n",
       "  'Deaths': 319},\n",
       " 1967: {'Name': 'Beulah',\n",
       "  'Month': 'September',\n",
       "  'Year': 1967,\n",
       "  'Max Sustained Wind': 160,\n",
       "  'Areas Affected': ['The Caribbean', 'Mexico', 'Texas'],\n",
       "  'Damage': 208.0,\n",
       "  'Deaths': 688},\n",
       " 1969: {'Name': 'Camille',\n",
       "  'Month': 'August',\n",
       "  'Year': 1969,\n",
       "  'Max Sustained Wind': 175,\n",
       "  'Areas Affected': ['Cuba', 'United States Gulf Coast'],\n",
       "  'Damage': 1420.0,\n",
       "  'Deaths': 259},\n",
       " 1971: {'Name': 'Edith',\n",
       "  'Month': 'September',\n",
       "  'Year': 1971,\n",
       "  'Max Sustained Wind': 160,\n",
       "  'Areas Affected': ['The Caribbean',\n",
       "   'Central America',\n",
       "   'Mexico',\n",
       "   'United States Gulf Coast'],\n",
       "  'Damage': 25.4,\n",
       "  'Deaths': 37},\n",
       " 1977: {'Name': 'Anita',\n",
       "  'Month': 'September',\n",
       "  'Year': 1977,\n",
       "  'Max Sustained Wind': 175,\n",
       "  'Areas Affected': ['Mexico'],\n",
       "  'Damage': 'Damages not recorded',\n",
       "  'Deaths': 11},\n",
       " 1979: {'Name': 'David',\n",
       "  'Month': 'August',\n",
       "  'Year': 1979,\n",
       "  'Max Sustained Wind': 175,\n",
       "  'Areas Affected': ['The Caribbean', 'United States East coast'],\n",
       "  'Damage': 1540.0,\n",
       "  'Deaths': 2068},\n",
       " 1980: {'Name': 'Allen',\n",
       "  'Month': 'August',\n",
       "  'Year': 1980,\n",
       "  'Max Sustained Wind': 190,\n",
       "  'Areas Affected': ['The Caribbean',\n",
       "   'Yucatn Peninsula',\n",
       "   'Mexico',\n",
       "   'South Texas'],\n",
       "  'Damage': 1240.0,\n",
       "  'Deaths': 269},\n",
       " 1988: {'Name': 'Gilbert',\n",
       "  'Month': 'September',\n",
       "  'Year': 1988,\n",
       "  'Max Sustained Wind': 185,\n",
       "  'Areas Affected': ['Jamaica',\n",
       "   'Venezuela',\n",
       "   'Central America',\n",
       "   'Hispaniola',\n",
       "   'Mexico'],\n",
       "  'Damage': 7100.0,\n",
       "  'Deaths': 318},\n",
       " 1989: {'Name': 'Hugo',\n",
       "  'Month': 'September',\n",
       "  'Year': 1989,\n",
       "  'Max Sustained Wind': 160,\n",
       "  'Areas Affected': ['The Caribbean', 'United States East Coast'],\n",
       "  'Damage': 10000.0,\n",
       "  'Deaths': 107},\n",
       " 1992: {'Name': 'Andrew',\n",
       "  'Month': 'August',\n",
       "  'Year': 1992,\n",
       "  'Max Sustained Wind': 175,\n",
       "  'Areas Affected': ['The Bahamas', 'Florida', 'United States Gulf Coast'],\n",
       "  'Damage': 26500.0,\n",
       "  'Deaths': 65},\n",
       " 1998: {'Name': 'Mitch',\n",
       "  'Month': 'October',\n",
       "  'Year': 1998,\n",
       "  'Max Sustained Wind': 180,\n",
       "  'Areas Affected': ['Central America', 'Yucatn Peninsula', 'South Florida'],\n",
       "  'Damage': 6200.0,\n",
       "  'Deaths': 19325},\n",
       " 2003: {'Name': 'Isabel',\n",
       "  'Month': 'September',\n",
       "  'Year': 2003,\n",
       "  'Max Sustained Wind': 165,\n",
       "  'Areas Affected': ['Greater Antilles',\n",
       "   'Bahamas',\n",
       "   'Eastern United States',\n",
       "   'Ontario'],\n",
       "  'Damage': 5370.0,\n",
       "  'Deaths': 51},\n",
       " 2004: {'Name': 'Ivan',\n",
       "  'Month': 'September',\n",
       "  'Year': 2004,\n",
       "  'Max Sustained Wind': 165,\n",
       "  'Areas Affected': ['The Caribbean', 'Venezuela', 'United States Gulf Coast'],\n",
       "  'Damage': 23300.0,\n",
       "  'Deaths': 124},\n",
       " 2005: {'Name': 'Wilma',\n",
       "  'Month': 'October',\n",
       "  'Year': 2005,\n",
       "  'Max Sustained Wind': 185,\n",
       "  'Areas Affected': ['Greater Antilles', 'Central America', 'Florida'],\n",
       "  'Damage': 29400.0,\n",
       "  'Deaths': 87},\n",
       " 2007: {'Name': 'Felix',\n",
       "  'Month': 'September',\n",
       "  'Year': 2007,\n",
       "  'Max Sustained Wind': 175,\n",
       "  'Areas Affected': ['Nicaragua', 'Honduras'],\n",
       "  'Damage': 720.0,\n",
       "  'Deaths': 133},\n",
       " 2016: {'Name': 'Matthew',\n",
       "  'Month': 'October',\n",
       "  'Year': 2016,\n",
       "  'Max Sustained Wind': 165,\n",
       "  'Areas Affected': ['Antilles',\n",
       "   'Venezuela',\n",
       "   'Colombia',\n",
       "   'United States East Coast',\n",
       "   'Atlantic Canada'],\n",
       "  'Damage': 15100.0,\n",
       "  'Deaths': 603},\n",
       " 2017: {'Name': 'Maria',\n",
       "  'Month': 'September',\n",
       "  'Year': 2017,\n",
       "  'Max Sustained Wind': 175,\n",
       "  'Areas Affected': ['Lesser Antilles',\n",
       "   'Virgin Islands',\n",
       "   'Puerto Rico',\n",
       "   'Dominican Republic',\n",
       "   'Turks and Caicos Islands'],\n",
       "  'Damage': 91600.0,\n",
       "  'Deaths': 3057},\n",
       " 2018: {'Name': 'Michael',\n",
       "  'Month': 'October',\n",
       "  'Year': 2018,\n",
       "  'Max Sustained Wind': 160,\n",
       "  'Areas Affected': ['Central America',\n",
       "   'United States Gulf Coast (especially Florida Panhandle)'],\n",
       "  'Damage': 25100.0,\n",
       "  'Deaths': 74}}"
      ]
     },
     "execution_count": 105,
     "metadata": {},
     "output_type": "execute_result"
    }
   ],
   "source": [
    "#canes_dict[1924]\n",
    "canes_dict"
   ]
  },
  {
   "cell_type": "code",
   "execution_count": null,
   "id": "b5a87cd4-bbf2-4ae6-860a-a2baf49a404e",
   "metadata": {},
   "outputs": [],
   "source": [
    "from itertools import chain\n",
    "flatten_areas_affected = list(chain.from_iterable(areas_affected))\n",
    "flatten_areas_affected[:10]"
   ]
  },
  {
   "cell_type": "code",
   "execution_count": null,
   "id": "26edde67-e486-4918-92dc-1adccb2d28e4",
   "metadata": {},
   "outputs": [],
   "source": [
    "# write your count affected areas function here:\n",
    "areas_affected = [['Central America', 'Mexico', 'Cuba', 'Florida', 'The Bahamas'], ['Lesser Antilles', 'The Bahamas', 'United States East Coast', 'Atlantic Canada'], ['The Bahamas', 'Northeastern United States'], ['Lesser Antilles', 'Jamaica', 'Cayman Islands', 'Cuba', 'The Bahamas', 'Bermuda'], ['The Bahamas', 'Cuba', 'Florida', 'Texas', 'Tamaulipas'], ['Jamaica', 'Yucatn Peninsula'], ['The Bahamas', 'Florida', 'Georgia', 'The Carolinas', 'Virginia'], ['Southeastern United States', 'Northeastern United States', 'Southwestern Quebec'], ['Bermuda', 'New England', 'Atlantic Canada'], ['Lesser Antilles', 'Central America'], ['Texas', 'Louisiana', 'Midwestern United States'], ['Central America'], ['The Caribbean', 'Mexico', 'Texas'], ['Cuba', 'United States Gulf Coast'], ['The Caribbean', 'Central America', 'Mexico', 'United States Gulf Coast'], ['Mexico'], ['The Caribbean', 'United States East coast'], ['The Caribbean', 'Yucatn Peninsula', 'Mexico', 'South Texas'], ['Jamaica', 'Venezuela', 'Central America', 'Hispaniola', 'Mexico'], ['The Caribbean', 'United States East Coast'], ['The Bahamas', 'Florida', 'United States Gulf Coast'], ['Central America', 'Yucatn Peninsula', 'South Florida'], ['Greater Antilles', 'Bahamas', 'Eastern United States', 'Ontario'], ['The Caribbean', 'Venezuela', 'United States Gulf Coast'], ['Windward Islands', 'Jamaica', 'Mexico', 'Texas'], ['Bahamas', 'United States Gulf Coast'], ['Cuba', 'United States Gulf Coast'], ['Greater Antilles', 'Central America', 'Florida'], ['The Caribbean', 'Central America'], ['Nicaragua', 'Honduras'], ['Antilles', 'Venezuela', 'Colombia', 'United States East Coast', 'Atlantic Canada'], ['Cape Verde', 'The Caribbean', 'British Virgin Islands', 'U.S. Virgin Islands', 'Cuba', 'Florida'], ['Lesser Antilles', 'Virgin Islands', 'Puerto Rico', 'Dominican Republic', 'Turks and Caicos Islands'], ['Central America', 'United States Gulf Coast (especially Florida Panhandle)']]\n",
    "areas_affected_unique = []\n",
    "[areas_affected_unique.append(x) for x in flatten_areas_affected if x not in areas_affected_unique]\n",
    "areas_affected_unique[:10]\n",
    "\n"
   ]
  },
  {
   "cell_type": "code",
   "execution_count": null,
   "id": "97a689c3-4151-460c-bf73-d00b9a080a56",
   "metadata": {},
   "outputs": [],
   "source": [
    "count_affected = {}\n",
    "for x in areas_affected_unique:\n",
    "    #print(x)\n",
    "    #print(flatten_areas_affected.count(x))\n",
    "    y = flatten_areas_affected.count(x)\n",
    "    count_affected.update({x: y})\n",
    "print(count_affected)"
   ]
  },
  {
   "cell_type": "code",
   "execution_count": null,
   "id": "9e17c6fc-f73f-44d2-8975-983ed33d6a22",
   "metadata": {},
   "outputs": [],
   "source": [
    "def count_affected(input):\n",
    "    \n",
    "    ##block 1\n",
    "    from itertools import chain\n",
    "    flatten_areas_affected = list(chain.from_iterable(input))\n",
    "\n",
    "    ##block 2\n",
    "    areas_affected_unique = []\n",
    "    [areas_affected_unique.append(x) for x in flatten_areas_affected if x not in areas_affected_unique]\n",
    "    \n",
    "    ##block 3\n",
    "    count_affected_dict = {}\n",
    "    for x in areas_affected_unique:\n",
    "        y = flatten_areas_affected.count(x)\n",
    "        count_affected_dict.update({x: y})\n",
    "    return(count_affected_dict)"
   ]
  },
  {
   "cell_type": "code",
   "execution_count": null,
   "id": "685b819c-18a9-4eef-92ce-3b6aaebd1e80",
   "metadata": {},
   "outputs": [],
   "source": [
    "count_affected_areas = count_affected(areas_affected)\n",
    "count_affected_areas[\"Cuba\"]"
   ]
  },
  {
   "cell_type": "code",
   "execution_count": null,
   "id": "cd3893d1-3168-4a1b-8d50-b525c258e284",
   "metadata": {},
   "outputs": [],
   "source": [
    "# write your find most affected area function here:\n",
    "values = count_affected_areas.values()\n",
    "max_ = max(values)\n",
    "for i in count_affected_areas.items():\n",
    "    if i[1] == max_:\n",
    "        print(i)\n",
    "    else:\n",
    "        continue"
   ]
  },
  {
   "cell_type": "code",
   "execution_count": null,
   "id": "0ee84e54-22a3-4c88-aee6-ebaf65b71b0f",
   "metadata": {},
   "outputs": [],
   "source": [
    "def find_most_affected_area(input):\n",
    "    values = input.values()\n",
    "    max_ = max(values)\n",
    "    list = []\n",
    "    for i in input.items():\n",
    "        if i[1] == max_:\n",
    "            list.append(i)\n",
    "        else:\n",
    "            continue\n",
    "    return list"
   ]
  },
  {
   "cell_type": "code",
   "execution_count": null,
   "id": "2b6d1a55-2838-4eb5-a0d9-7fce4173e9ac",
   "metadata": {},
   "outputs": [],
   "source": [
    "find_most_affected_area(count_affected_areas)"
   ]
  },
  {
   "cell_type": "code",
   "execution_count": null,
   "id": "be01d88f-f08b-498f-a2ff-27198a568882",
   "metadata": {},
   "outputs": [],
   "source": [
    "hurricanes[\"Cuba I\"][\"Deaths\"]"
   ]
  },
  {
   "cell_type": "code",
   "execution_count": null,
   "id": "16ece042-57a4-4d82-b1c1-3286372f0b12",
   "metadata": {},
   "outputs": [],
   "source": [
    "hurricanes[i].keys()\n",
    "hurricanes[i]['Deaths']"
   ]
  },
  {
   "cell_type": "code",
   "execution_count": null,
   "id": "896ed1b3-e703-49bb-8756-8b6d064250a9",
   "metadata": {},
   "outputs": [],
   "source": [
    "for i in hurricanes:\n",
    "    print(f\"{i}: {hurricanes[i]['Deaths']}\")"
   ]
  },
  {
   "cell_type": "code",
   "execution_count": null,
   "id": "b3544b18-157d-4f22-8166-eac66c615e34",
   "metadata": {},
   "outputs": [],
   "source": [
    "# write your greatest number of deaths function here:\n",
    "def greatest_number_deaths(list):\n",
    "    res_number = 0\n",
    "    for i in list:\n",
    "        if list[i]['Deaths'] > res_number:\n",
    "            #print(f\"{hurricanes[i]['Deaths']} vs {res_number}\")\n",
    "            res_number = list[i]['Deaths']\n",
    "            res_name = list[i]['Name']\n",
    "        else:\n",
    "            continue\n",
    "    \n",
    "    return res_number, res_name\n",
    "\n",
    "greatest_number_deaths(hurricanes)\n"
   ]
  },
  {
   "cell_type": "code",
   "execution_count": null,
   "id": "bbe543fe-a002-42a8-bbd9-d8c5fc237cb4",
   "metadata": {},
   "outputs": [],
   "source": [
    "# write your catgeorize by mortality function here:\n",
    "mortality_scale = {0: 0,\n",
    "                   1: 100,\n",
    "                   2: 500,\n",
    "                   3: 1000,\n",
    "                   4: 10000}\n",
    "\n",
    "hurricanes_by_mortality = {0:[],1:[],2:[],3:[],4:[], 5:[]}\n",
    "\n",
    "for i in hurricanes:\n",
    "    if hurricanes[i]['Deaths'] < mortality_scale[0]:\n",
    "        hurricanes_by_mortality[0].append(hurricanes[i]['Name'])\n",
    "    elif hurricanes[i]['Deaths'] < mortality_scale[1]:\n",
    "        hurricanes_by_mortality[1].append(hurricanes[i]['Name'])\n",
    "    elif hurricanes[i]['Deaths'] < mortality_scale[2]:\n",
    "            hurricanes_by_mortality[2].append(hurricanes[i]['Name'])\n",
    "    elif hurricanes[i]['Deaths'] < mortality_scale[3]:\n",
    "            hurricanes_by_mortality[3].append(hurricanes[i]['Name'])\n",
    "    elif hurricanes[i]['Deaths'] < mortality_scale[4]:\n",
    "            hurricanes_by_mortality[4].append(hurricanes[i]['Name'])\n",
    "    else:\n",
    "        hurricanes_by_mortality[5].append(hurricanes[i]['Name'])\n",
    "\n",
    "for i in hurricanes_by_mortality[4]:\n",
    "    print(f\"{i} {hurricanes[i]['Deaths']}\")"
   ]
  },
  {
   "cell_type": "code",
   "execution_count": 42,
   "id": "2b080f23-5a9e-45cd-b587-b09239165e4b",
   "metadata": {},
   "outputs": [],
   "source": [
    "# write your greatest damage function here:\n",
    "def greatest_damage(list):\n",
    "    damages = 0\n",
    "    for i in list:\n",
    "        #print(f\"{list[i]['Name']}: {list[i]['Damage']}\")\n",
    "        if isinstance(list[i]['Damage'],str):\n",
    "            continue\n",
    "        elif hurricanes[i]['Damage'] > damages:\n",
    "            damages = list[i]['Damage']\n",
    "            name = list[i]['Name']\n",
    "        else:\n",
    "            continue\n",
    "    return name, damages\n",
    "    #print(f\"The hurricane that has caused the greatest damage is {name} with a value of {damages} mln $\")\n",
    "\n",
    "    \n",
    "    "
   ]
  },
  {
   "cell_type": "code",
   "execution_count": 48,
   "id": "6881c115-5b08-4442-8a83-d4ee7e011e96",
   "metadata": {},
   "outputs": [
    {
     "name": "stdout",
     "output_type": "stream",
     "text": [
      "The hurricane that has caused the greatest damage is Katrina with a value of 125000.0 mln $\n"
     ]
    }
   ],
   "source": [
    "a, b = greatest_damage(hurricanes)\n",
    "#print(b)\n",
    "print(f\"The hurricane that has caused the greatest damage is {a} with a value of {b} mln $\")"
   ]
  },
  {
   "cell_type": "code",
   "execution_count": 62,
   "id": "fe9f4206-0966-46f4-a3bb-f270409c101f",
   "metadata": {},
   "outputs": [],
   "source": [
    "# write your catgeorize by damage function here:\n",
    "damage_scale = {0: 0,\n",
    "                1: 100000000/1000000,\n",
    "                2: 1000000000/1000000,\n",
    "                3: 10000000000/1000000,\n",
    "                4: 50000000000/1000000}"
   ]
  },
  {
   "cell_type": "code",
   "execution_count": 70,
   "id": "277f86c9-418e-44f5-8b9a-736e52930df2",
   "metadata": {},
   "outputs": [
    {
     "data": {
      "text/plain": [
       "True"
      ]
     },
     "execution_count": 70,
     "metadata": {},
     "output_type": "execute_result"
    }
   ],
   "source": [
    "isinstance(hurricanes[\"Cuba I\"]['Damage'],str)"
   ]
  },
  {
   "cell_type": "code",
   "execution_count": 83,
   "id": "abdfc992-23b3-4830-bedc-b732457bd8e5",
   "metadata": {},
   "outputs": [],
   "source": [
    "def hurricanes_by_damage_(list):\n",
    "    hurricanes_by_damage = {0:[],1:[],2:[],3:[],4:[],5:[],'na':[]}\n",
    "\n",
    "    for i in list:\n",
    "        if isinstance(list[i]['Damage'],str):\n",
    "            '''\n",
    "            print(hurricanes[i]['Name'])\n",
    "            print(hurricanes[i]['Damage'])\n",
    "            print(isinstance(hurricanes[i]['Damage'],str))\n",
    "            '''\n",
    "            hurricanes_by_damage['na'].append(list[i]['Name'])\n",
    "        else:\n",
    "            '''\n",
    "            print(hurricanes[i]['Name'])\n",
    "            print(hurricanes[i]['Damage'])\n",
    "            print(isinstance(hurricanes[i]['Damage'],str))\n",
    "            '''\n",
    "            if list[i]['Damage'] < damage_scale[0]:\n",
    "                hurricanes_by_damage[0].append(list[i]['Name'])\n",
    "            elif list[i]['Damage'] < damage_scale[1]:\n",
    "                hurricanes_by_damage[1].append(list[i]['Name'])\n",
    "            elif list[i]['Damage'] < damage_scale[2]:\n",
    "                    hurricanes_by_damage[2].append(list[i]['Name'])\n",
    "            elif list[i]['Damage'] < damage_scale[3]:\n",
    "                    hurricanes_by_damage[3].append(list[i]['Name'])\n",
    "            elif list[i]['Damage'] < damage_scale[4]:\n",
    "                    hurricanes_by_damage[4].append(list[i]['Name'])\n",
    "            else:\n",
    "                hurricanes_by_damage[5].append(list[i]['Name'])\n",
    "\n",
    "    return hurricanes_by_damage\n"
   ]
  },
  {
   "cell_type": "code",
   "execution_count": 84,
   "id": "fde112c5-1b2e-4e43-9aff-e19d06b67903",
   "metadata": {},
   "outputs": [
    {
     "data": {
      "text/plain": [
       "{0: [],\n",
       " 1: ['Cuba II',\n",
       "  'CubaBrownsville',\n",
       "  'Tampico',\n",
       "  'Carol',\n",
       "  'Janet',\n",
       "  'Hattie',\n",
       "  'Edith'],\n",
       " 2: ['San Felipe II Okeechobee', 'New England', 'Carla', 'Beulah', 'Felix'],\n",
       " 3: ['Camille',\n",
       "  'David',\n",
       "  'Allen',\n",
       "  'Gilbert',\n",
       "  'Mitch',\n",
       "  'Isabel',\n",
       "  'Emily',\n",
       "  'Dean'],\n",
       " 4: ['Hugo', 'Andrew', 'Ivan', 'Rita', 'Wilma', 'Matthew', 'Michael'],\n",
       " 5: ['Katrina', 'Irma', 'Maria'],\n",
       " 'na': ['Cuba I', 'Bahamas', 'Labor Day', 'Anita']}"
      ]
     },
     "execution_count": 84,
     "metadata": {},
     "output_type": "execute_result"
    }
   ],
   "source": [
    "hurricanes_by_damage_(hurricanes)"
   ]
  },
  {
   "cell_type": "code",
   "execution_count": null,
   "id": "47d1a124-8185-41b3-8858-71859d457b9d",
   "metadata": {},
   "outputs": [],
   "source": []
  }
 ],
 "metadata": {
  "kernelspec": {
   "display_name": "Python 3.9 (XPython)",
   "language": "python",
   "name": "xpython"
  },
  "language_info": {
   "file_extension": ".py",
   "mimetype": "text/x-python",
   "name": "python",
   "version": "3.9.7"
  }
 },
 "nbformat": 4,
 "nbformat_minor": 5
}
